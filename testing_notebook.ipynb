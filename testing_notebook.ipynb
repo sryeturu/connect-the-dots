{
 "cells": [
  {
   "cell_type": "code",
   "execution_count": 206,
   "metadata": {},
   "outputs": [
    {
     "name": "stdout",
     "output_type": "stream",
     "text": [
      "The autoreload extension is already loaded. To reload it, use:\n",
      "  %reload_ext autoreload\n"
     ]
    }
   ],
   "source": [
    "import cv2 as cv\n",
    "import numpy as np\n",
    "import random\n",
    "import copy\n",
    "from PIL import Image\n",
    "from image_utils import *\n",
    "from canvas import *\n",
    "from scipy import ndimage\n",
    "from sampling import Sampler\n",
    "from config import parse_cfg\n",
    "%load_ext autoreload\n",
    "%autoreload 2"
   ]
  },
  {
   "cell_type": "code",
   "execution_count": 209,
   "metadata": {},
   "outputs": [],
   "source": [
    "def display(img):\n",
    "    return Image.fromarray(img)"
   ]
  },
  {
   "cell_type": "code",
   "execution_count": 210,
   "metadata": {},
   "outputs": [],
   "source": [
    "def get_above_coords(canvas, dot, num_coords):\n",
    "\n",
    "    top_left_row = num_coords['min_col'] + random.randint(-20, 20)\n",
    "    top_left_col = num_coords['min_row'] - dot.shape[0] - random.randint(0, 10)\n",
    "\n",
    "    return top_left_row, top_left_col \n",
    "\n",
    "def get_below_coords(canvas, num, dot_coords):\n",
    "        \n",
    "    top_left_col = dot_coords['max_row'] + random.randint(0, 10)\n",
    "    top_left_row = dot_coords['min_col'] + random.randint(-20, 20)\n",
    "    \n",
    "    return top_left_row, top_left_col\n",
    "\n",
    "def get_right_coords(canvas, num, dot_coords):\n",
    "    \n",
    "    top_left_col = dot_coords['min_row'] + random.randint(-20, 20)\n",
    "    top_left_row = dot_coords['max_col'] + random.randint(0, 10)\n",
    "    \n",
    "    return top_left_row, top_left_col\n",
    "\n",
    "def get_left_coords(canvas, num, dot_coords):\n",
    "    \n",
    "    top_left_col = dot_coords['min_row'] + random.randint(-20, 20)\n",
    "    top_left_row = dot_coords['min_col'] - num.shape[1] - random.randint(0, 10)\n",
    "    \n",
    "    return top_left_row, top_left_col\n",
    "\n",
    "def get_yolo_bbox(corners, canvas):\n",
    "    ''' corners is a tuple of  (top_left, top_right, bot_right, bot_left)'''\n",
    "    \n",
    "    x1, y1 = corners[0] #top left\n",
    "    x2, y2 = corners[2] #bot right\n",
    "    \n",
    "    x_mid = (x1 + x2)/2\n",
    "    y_mid = (y1 + y2) /2\n",
    "    \n",
    "    width = x2 - x1\n",
    "    height = y2 - y1\n",
    "    \n",
    "    x_abs = x_mid / canvas.img.shape[1]\n",
    "    y_abs = y_mid / canvas.img.shape[0]\n",
    "    \n",
    "    width_abs = width / canvas.img.shape[1]\n",
    "    height_abs = height / canvas.img.shape[0]\n",
    "    \n",
    "    return x_abs, y_abs, width_abs, height_abs"
   ]
  },
  {
   "cell_type": "code",
   "execution_count": 211,
   "metadata": {},
   "outputs": [
    {
     "data": {
      "text/plain": [
       "(3, 12, 32)"
      ]
     },
     "execution_count": 211,
     "metadata": {},
     "output_type": "execute_result"
    }
   ],
   "source": [
    "(3, *(12,32))"
   ]
  },
  {
   "cell_type": "code",
   "execution_count": 213,
   "metadata": {},
   "outputs": [],
   "source": [
    "func = [get_above_coords, get_below_coords, get_left_coords, get_right_coords]\n",
    "\n",
    "canvas_sampler = Sampler(get_canvases('canvases'))\n",
    "dot_sampler = Sampler(get_img_data('dots'))\n",
    "background_sampler = Sampler(get_img_data('backgrounds'))\n",
    "drawing_sampler = Sampler(get_img_data('drawings'))\n",
    "\n",
    "num_sampler = [None]\n",
    "a = []\n",
    "def get_potential_pos(canvas):\n",
    "    x1 = random.randint(canvas.top_left[0],  canvas.top_right[0])\n",
    "    y1 = random.randint(canvas.top_left[1],  canvas.bot_left[1])\n",
    "    \n",
    "    return x1, y1\n",
    "    \n",
    "for i in range(1,3):\n",
    "    imgs = get_img_data('nums/' + str(i))\n",
    "    num_sampler.append(Sampler(imgs))\n",
    "\n",
    "num_of_samples = 2\n",
    "\n",
    "for img_idx in range(num_of_samples):\n",
    "    canvas = copy.deepcopy(canvas_sampler.get_sample())\n",
    "    bboxs = {}\n",
    "\n",
    "    num_of_drawings = random.randint(0, 3)\n",
    "    \n",
    "    for i in range(num_of_drawings):\n",
    "        drawing = drawing_sampler.get_sample()\n",
    "        drawing = resize(drawing, .8, 1.3)\n",
    "        x1, y1 = get_potential_pos(canvas)\n",
    "        \n",
    "        while not canvas.draw_on_paper(drawing, (x1, y1), True):\n",
    "            x1, y1 = get_potential_pos(canvas)\n",
    "\n",
    "\n",
    "    num_of_nums = random.randint(0, 20)\n",
    "    \n",
    "    for i in range(num_of_nums):\n",
    "        cur_num = random.randint(1,2)\n",
    "        num = num_sampler[cur_num].get_sample()\n",
    "        \n",
    "        num = resize(num, .8, 1.3)\n",
    "\n",
    "        x1 = random.randint(canvas.top_left[0],  canvas.top_right[0])\n",
    "        y1 = random.randint(canvas.top_left[1],  canvas.bot_left[1])\n",
    "\n",
    "        while not canvas.draw_on_paper(num, (x1, y1)):\n",
    "            x1 = random.randint(canvas.top_left[0],  canvas.top_right[0])\n",
    "            y1 = random.randint(canvas.top_left[1],  canvas.bot_left[1])\n",
    "\n",
    "        top_left, top_right, bot_right, bot_left = get_corners((x1, y1), num)\n",
    "        \n",
    "        if cur_num not in bboxs:\n",
    "            bboxs[cur_num] = []\n",
    "            \n",
    "        bboxs[cur_num].append((top_left, top_right, bot_right, bot_left))\n",
    "\n",
    "        num_coords = {}\n",
    "        num_coords['min_row'] = top_left[1]\n",
    "        num_coords['max_row'] = bot_right[1]\n",
    "        num_coords['min_col'] = top_left[0]\n",
    "        num_coords['max_col'] = bot_right[0]\n",
    "\n",
    "        np.random.shuffle(func)\n",
    "        \n",
    "        scalar = .8   \n",
    "        dot = dot_sampler.get_sample()\n",
    "        dot = cv.resize(dot, ( int(dot.shape[0]*scalar), int(dot.shape[1]*scalar)))\n",
    "        dot = adaptive_thresh(dot)\n",
    "\n",
    "        for f in func:\n",
    "            top_left = f(canvas, dot, num_coords)\n",
    "            if canvas.draw_on_paper(dot, top_left):\n",
    "                if 0 not in bboxs:\n",
    "                    bboxs[0] = []\n",
    "                    \n",
    "                bboxs[0].append(get_corners(top_left, dot))\n",
    "                break\n",
    "    \n",
    "    deg = np.random.uniform(-15, 15)\n",
    "    \n",
    "    org_shape = canvas.img.shape\n",
    "    canvas.rotate(deg)\n",
    "    \n",
    "    rad = np.deg2rad(deg)\n",
    "    rt = np.array([[np.cos(rad), np.sin(rad)], [-np.sin(rad), np.cos(rad)]])\n",
    "    \n",
    "    bbox_str = ''\n",
    "    for k,v in bboxs.items():\n",
    "        for obj in v:\n",
    "            nw = np.dot(rt, np.array(obj).T - (np.array(org_shape[::-1])/2).reshape(2,-1)) + np.array([canvas.img.shape[1]/2, canvas.img.shape[0]/2]).reshape(2,-1)\n",
    "\n",
    "            nw = nw.astype(np.int32)\n",
    "\n",
    "            canvas.img = cv.rectangle(canvas.img, tuple(nw[:, 0]), tuple(nw[:, 2]), (0), 1)\n",
    "            bbox_str += ('%d %f %f %f %f\\n' % (k, *get_yolo_bbox(obj, canvas)))\n",
    "    \n",
    "    background_count = random.randint(0, 5)\n",
    "    for i in range(background_count):\n",
    " \n",
    "        background = background_sampler.get_sample()\n",
    "\n",
    "        background = resize(background, .8, 1.3)\n",
    "\n",
    "        y1 = random.randint(0, canvas.img.shape[0])\n",
    "        x1 = random.randint(0, canvas.img.shape[1])\n",
    "\n",
    "        while canvas.all_corners_inside_paper((x1, y1), background):\n",
    "            y1 = random.randint(0, canvas.img.shape[0])\n",
    "            x1 = random.randint(0, canvas.img.shape[1])\n",
    "\n",
    "        canvas.draw_on_background(background, (x1, y1))\n",
    " \n",
    "        a.append(canvas.img)"
   ]
  },
  {
   "cell_type": "code",
   "execution_count": 219,
   "metadata": {},
   "outputs": [
    {
     "data": {
      "image/png": "[encoded data removed]",
      "text/plain": [
       "<PIL.Image.Image image mode=L size=672x512 at 0x7F96662D3F98>"
      ]
     },
     "execution_count": 219,
     "metadata": {},
     "output_type": "execute_result"
    }
   ],
   "source": [
    "display(cv.resize(image_samples[0], (672, 512)))    "
   ]
  },
  {
   "cell_type": "code",
   "execution_count": null,
   "metadata": {},
   "outputs": [],
   "source": []
  },
  {
   "cell_type": "code",
   "execution_count": 177,
   "metadata": {},
   "outputs": [
    {
     "data": {
      "text/plain": [
       "True"
      ]
     },
     "execution_count": 177,
     "metadata": {},
     "output_type": "execute_result"
    }
   ],
   "source": [
    "cv.imwrite('m.jpg', image_samples[0])"
   ]
  }
 ],
 "metadata": {
  "kernelspec": {
   "display_name": "Python [conda env:test_env]",
   "language": "python",
   "name": "conda-env-test_env-py"
  },
  "language_info": {
   "codemirror_mode": {
    "name": "ipython",
    "version": 3
   },
   "file_extension": ".py",
   "mimetype": "text/x-python",
   "name": "python",
   "nbconvert_exporter": "python",
   "pygments_lexer": "ipython3",
   "version": "3.6.5"
  }
 },
 "nbformat": 4,
 "nbformat_minor": 2
}
