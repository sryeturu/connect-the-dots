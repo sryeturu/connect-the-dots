{
 "cells": [
  {
   "cell_type": "code",
   "execution_count": 91,
   "metadata": {},
   "outputs": [
    {
     "name": "stdout",
     "output_type": "stream",
     "text": [
      "The autoreload extension is already loaded. To reload it, use:\n",
      "  %reload_ext autoreload\n"
     ]
    }
   ],
   "source": [
    "import cv2 as cv\n",
    "import numpy as np\n",
    "import random\n",
    "from PIL import Image\n",
    "from image_utils import *\n",
    "from blank import *\n",
    "from sampling import Sampler\n",
    "%load_ext autoreload\n",
    "%autoreload 2"
   ]
  },
  {
   "cell_type": "code",
   "execution_count": 92,
   "metadata": {},
   "outputs": [],
   "source": [
    "def parse_cfg(cfg_path):\n",
    "    \n",
    "    # only supports distributon configs for now\n",
    "    \n",
    "    cfg = {}\n",
    "    \n",
    "    with open(cfg_path) as f:\n",
    "        for line in f:          \n",
    "            line = line.strip()\n",
    "            if line[0] == '#':\n",
    "                continue\n",
    "            else:\n",
    "                key,value = line.split('=')\n",
    "                \n",
    "                key = key.strip()\n",
    "                value = float(value.strip())\n",
    "                \n",
    "                cfg[key] = value\n",
    "                \n",
    "                \n",
    "    return cfg  "
   ]
  },
  {
   "cell_type": "code",
   "execution_count": 93,
   "metadata": {},
   "outputs": [],
   "source": [
    "def get_img_data(directory_path):\n",
    "    \n",
    "    path_slash = '\\\\' if os.name == 'nt' else '/'\n",
    "    \n",
    "    if directory_path[-1] != path_slash:\n",
    "        directory_path += path_slash\n",
    "        \n",
    "    img_names = []\n",
    "    imgs = []\n",
    "    \n",
    "    for file_name in glob.glob(directory_path + '*'):\n",
    "        \n",
    "        if '.cfg' in file_name:\n",
    "            cfg = parse_cfg(file_name)\n",
    "            cfg = {k.replace('.npy', '') : v for k,v in cfg.items()} # removing potential .npy extension from key(name)\n",
    "        else:\n",
    "            cur_img = np.load(file_name)\n",
    "            imgs.append(cur_img)\n",
    "            \n",
    "            cur_img_name = file_name.split(path_slash)[-1]\n",
    "            cur_img_name = cur_img_name.split('.')[0]         \n",
    "            img_names.append(cur_img_name)\n",
    "            \n",
    "    \n",
    "    distribution = []\n",
    "    \n",
    "    for img_name in img_names:\n",
    "        distribution.append(cfg[img_name])\n",
    "    \n",
    "    return img_names, imgs, distribution"
   ]
  },
  {
   "cell_type": "code",
   "execution_count": 94,
   "metadata": {},
   "outputs": [],
   "source": [
    "def display(img):\n",
    "    return Image.fromarray(img)"
   ]
  },
  {
   "cell_type": "code",
   "execution_count": 95,
   "metadata": {
    "scrolled": true
   },
   "outputs": [],
   "source": [
    "a = get_blanks('blanks')[2]\n",
    "a.img = adaptive_thresh(a.img)\n",
    "names, imgs, distr = get_img_data('nums')\n",
    "num_sampler = Sampler(imgs, distr)\n",
    "cnt = 0\n",
    "\n",
    "while cnt < 80:\n",
    "    row = random.randint(a.min_row, a.max_row)\n",
    "    col = random.randint(a.min_col, a.max_col)\n",
    "    \n",
    "    st = num_sampler.get_sample()\n",
    "    st = adaptive_thresh(st)\n",
    "    \n",
    "    while not a.place_object(st, (row, col)):\n",
    "        row = random.randint(a.min_row, a.max_row)\n",
    "        col = random.randint(a.min_col, a.max_col)\n",
    "        continue\n",
    "    \n",
    "    cnt += 1\n"
   ]
  },
  {
   "cell_type": "code",
   "execution_count": 211,
   "metadata": {},
   "outputs": [],
   "source": [
    "def place_above(blank, num, dot_coords):\n",
    "\n",
    "    top_left_row = dot_coords['min row'] - num.shape[0] - random.randint(0, 10)\n",
    "    top_left_col = dot_coords['min col'] + random.randint(-20, 20)\n",
    "    \n",
    "    return blank.place_object(num, (top_left_row, top_left_col))\n",
    "\n",
    "def place_below(blank, num, dot_coords):\n",
    "        \n",
    "    top_left_row = dot_coords['max row'] + random.randint(0, 10)\n",
    "    top_left_col = dot_coords['min col'] + random.randint(-20, 20)\n",
    "    \n",
    "    return blank.place_object(num, (top_left_row, top_left_col))\n",
    "\n",
    "def place_right(blank, num, dot_coords):\n",
    "    \n",
    "    top_left_row = dot_coords['min row'] + random.randint(-20, 20)\n",
    "    top_left_col = dot_coords['max col'] + random.randint(0, 10)\n",
    "    \n",
    "    return blank.place_object(num, (top_left_row, top_left_col))\n",
    "\n",
    "def place_left(blank, num, dot_coords):\n",
    "    \n",
    "    top_left_row = dot_coords['min row'] + random.randint(-20, 20)\n",
    "    top_left_col = dot_coords['min col'] - num.shape[1] - random.randint(0, 10)\n",
    "    \n",
    "    return blank.place_object(num, (top_left_row, top_left_col))"
   ]
  },
  {
   "cell_type": "code",
   "execution_count": 241,
   "metadata": {},
   "outputs": [],
   "source": [
    "a = get_blanks('blanks')[1]\n",
    "a.img = adaptive_thresh(a.img)\n",
    "\n",
    "for i in range(30):\n",
    "    dot = np.load('dots/dot1.npy')\n",
    "    dot = adaptive_thresh(dot)\n",
    "    \n",
    "    row = random.randint(a.min_row, a.max_row)\n",
    "    col = random.randint(a.min_col, a.max_col)\n",
    "    \n",
    "    while not a.place_object(dot, (row, col)):\n",
    "        row = random.randint(a.min_row, a.max_row)\n",
    "        col = random.randint(a.min_col, a.max_col)\n",
    "    \n",
    "    # placed dot\n",
    "    \n",
    "    num = np.load('nums/five.npy')\n",
    "    num = adaptive_thresh(num)\n",
    "    num = cv.resize(num, (30,30))\n",
    "\n",
    "    top_left = row, col\n",
    "    bot_right = row+dot.shape[0], col+dot.shape[1]\n",
    "    \n",
    "    dot_coords = {}\n",
    "    dot_coords['min row'] = top_left[0]\n",
    "    dot_coords['max row'] = bot_right[0]\n",
    "    dot_coords['min col'] = top_left[1]\n",
    "    dot_coords['max col'] = bot_right[1]\n",
    "\n",
    "    \n",
    "    (place_left(a, num, dot_coords))"
   ]
  },
  {
   "cell_type": "code",
   "execution_count": 242,
   "metadata": {},
   "outputs": [
    {
     "data": {
      "image/png": "[encoded data removed]",
      "text/plain": [
       "<PIL.Image.Image image mode=L size=1280x720 at 0x7FE88B5705C0>"
      ]
     },
     "execution_count": 242,
     "metadata": {},
     "output_type": "execute_result"
    }
   ],
   "source": [
    "display(a.img)"
   ]
  }
 ],
 "metadata": {
  "kernelspec": {
   "display_name": "Python [conda env:test_env]",
   "language": "python",
   "name": "conda-env-test_env-py"
  },
  "language_info": {
   "codemirror_mode": {
    "name": "ipython",
    "version": 3
   },
   "file_extension": ".py",
   "mimetype": "text/x-python",
   "name": "python",
   "nbconvert_exporter": "python",
   "pygments_lexer": "ipython3",
   "version": "3.6.5"
  }
 },
 "nbformat": 4,
 "nbformat_minor": 2
}
