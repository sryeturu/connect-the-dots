{
 "cells": [
  {
   "cell_type": "code",
   "execution_count": 3,
   "metadata": {},
   "outputs": [
    {
     "name": "stdout",
     "output_type": "stream",
     "text": [
      "The autoreload extension is already loaded. To reload it, use:\n",
      "  %reload_ext autoreload\n"
     ]
    }
   ],
   "source": [
    "import cv2 as cv\n",
    "import numpy as np\n",
    "import random\n",
    "from PIL import Image\n",
    "from image_utils import *\n",
    "from blank import *\n",
    "from sampling import Sampler\n",
    "%load_ext autoreload\n",
    "%autoreload 2"
   ]
  },
  {
   "cell_type": "code",
   "execution_count": 4,
   "metadata": {},
   "outputs": [],
   "source": [
    "def parse_cfg(cfg_path):\n",
    "    \n",
    "    # only supports distributon configs for now\n",
    "    \n",
    "    cfg = {}\n",
    "    \n",
    "    with open(cfg_path) as f:\n",
    "        for line in f:          \n",
    "            line = line.strip()\n",
    "            if line[0] == '#':\n",
    "                continue\n",
    "            else:\n",
    "                key,value = line.split('=')\n",
    "                \n",
    "                key = key.strip()\n",
    "                value = float(value.strip())\n",
    "                \n",
    "                cfg[key] = value\n",
    "                \n",
    "                \n",
    "    return cfg  "
   ]
  },
  {
   "cell_type": "code",
   "execution_count": 5,
   "metadata": {},
   "outputs": [],
   "source": [
    "def get_img_data(directory_path):\n",
    "    \n",
    "    path_slash = '\\\\' if os.name == 'nt' else '/'\n",
    "    \n",
    "    if directory_path[-1] != path_slash:\n",
    "        directory_path += path_slash\n",
    "        \n",
    "    img_names = []\n",
    "    imgs = []\n",
    "    \n",
    "    for file_name in glob.glob(directory_path + '*'):\n",
    "        \n",
    "        if '.cfg' in file_name:\n",
    "            cfg = parse_cfg(file_name)\n",
    "            cfg = {k.replace('.npy', '') : v for k,v in cfg.items()} # removing potential .npy extension from key(name)\n",
    "        else:\n",
    "            cur_img = np.load(file_name)\n",
    "            imgs.append(cur_img)\n",
    "            \n",
    "            cur_img_name = file_name.split(path_slash)[-1]\n",
    "            cur_img_name = cur_img_name.split('.')[0]         \n",
    "            img_names.append(cur_img_name)\n",
    "            \n",
    "    \n",
    "    distribution = []\n",
    "    \n",
    "    for img_name in img_names:\n",
    "        distribution.append(cfg[img_name])\n",
    "    \n",
    "    return img_names, imgs, distribution"
   ]
  },
  {
   "cell_type": "code",
   "execution_count": 6,
   "metadata": {},
   "outputs": [],
   "source": [
    "def display(img):\n",
    "    return Image.fromarray(img)"
   ]
  },
  {
   "cell_type": "code",
   "execution_count": 19,
   "metadata": {
    "scrolled": true
   },
   "outputs": [],
   "source": [
    "a = get_blanks('blanks')[2]\n",
    "a.img = adaptive_thresh(a.img)\n",
    "names, imgs, distr = get_img_data('nums')\n",
    "num_sampler = Sampler(imgs, distr)\n",
    "cnt = 0\n",
    "\n",
    "while cnt < 80:\n",
    "    row = random.randint(a.min_row, a.max_row)\n",
    "    col = random.randint(a.min_col, a.max_col)\n",
    "    \n",
    "    st = num_sampler.get_sample()\n",
    "    st = adaptive_thresh(st)\n",
    "    \n",
    "    while not a.place_object(st, (row, col)):\n",
    "        row = random.randint(a.min_row, a.max_row)\n",
    "        col = random.randint(a.min_col, a.max_col)\n",
    "        continue\n",
    "    \n",
    "    cnt += 1\n"
   ]
  },
  {
   "cell_type": "code",
   "execution_count": 21,
   "metadata": {},
   "outputs": [
    {
     "data": {
      "text/plain": [
       "6"
      ]
     },
     "execution_count": 21,
     "metadata": {},
     "output_type": "execute_result"
    }
   ],
   "source": [
    "sum([1,2,3])"
   ]
  },
  {
   "cell_type": "code",
   "execution_count": 20,
   "metadata": {},
   "outputs": [
    {
     "data": {
      "image/png": "[encoded data removed]",
      "text/plain": [
       "<PIL.Image.Image image mode=L size=1280x720 at 0x7FD777113E48>"
      ]
     },
     "execution_count": 20,
     "metadata": {},
     "output_type": "execute_result"
    }
   ],
   "source": [
    "display(a.img)"
   ]
  },
  {
   "cell_type": "code",
   "execution_count": null,
   "metadata": {},
   "outputs": [],
   "source": []
  }
 ],
 "metadata": {
  "kernelspec": {
   "display_name": "Python [conda env:test_env]",
   "language": "python",
   "name": "conda-env-test_env-py"
  },
  "language_info": {
   "codemirror_mode": {
    "name": "ipython",
    "version": 3
   },
   "file_extension": ".py",
   "mimetype": "text/x-python",
   "name": "python",
   "nbconvert_exporter": "python",
   "pygments_lexer": "ipython3",
   "version": "3.6.5"
  }
 },
 "nbformat": 4,
 "nbformat_minor": 2
}
