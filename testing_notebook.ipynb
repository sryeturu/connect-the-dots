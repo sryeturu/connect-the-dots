{
 "cells": [
  {
   "cell_type": "code",
   "execution_count": 17,
   "metadata": {},
   "outputs": [
    {
     "name": "stdout",
     "output_type": "stream",
     "text": [
      "The autoreload extension is already loaded. To reload it, use:\n",
      "  %reload_ext autoreload\n"
     ]
    }
   ],
   "source": [
    "import cv2 as cv\n",
    "import numpy as np\n",
    "import random\n",
    "from PIL import Image\n",
    "from image_utils import *\n",
    "from blank import *\n",
    "from scipy import ndimage\n",
    "from sampling import Sampler\n",
    "from config_utils import parse_cfg\n",
    "%load_ext autoreload\n",
    "%autoreload 2"
   ]
  },
  {
   "cell_type": "code",
   "execution_count": 18,
   "metadata": {},
   "outputs": [],
   "source": [
    "def display(img):\n",
    "    return Image.fromarray(img)"
   ]
  },
  {
   "cell_type": "code",
   "execution_count": 19,
   "metadata": {},
   "outputs": [],
   "source": [
    "def place_above(blank, num, dot_coords):\n",
    "\n",
    "    top_left_row = dot_coords['min_row'] - num.shape[0] - random.randint(0, 10)\n",
    "    top_left_col = dot_coords['min_col'] + random.randint(-20, 20)\n",
    "    \n",
    "    return blank.place_object(num, (top_left_row, top_left_col))\n",
    "\n",
    "def place_below(blank, num, dot_coords):\n",
    "        \n",
    "    top_left_row = dot_coords['max_row'] + random.randint(0, 10)\n",
    "    top_left_col = dot_coords['min_col'] + random.randint(-20, 20)\n",
    "    \n",
    "    return blank.place_object(num, (top_left_row, top_left_col))\n",
    "\n",
    "def place_right(blank, num, dot_coords):\n",
    "    \n",
    "    top_left_row = dot_coords['min_row'] + random.randint(-20, 20)\n",
    "    top_left_col = dot_coords['max_col'] + random.randint(0, 10)\n",
    "    \n",
    "    return blank.place_object(num, (top_left_row, top_left_col))\n",
    "\n",
    "def place_left(blank, num, dot_coords):\n",
    "    \n",
    "    top_left_row = dot_coords['min_row'] + random.randint(-20, 20)\n",
    "    top_left_col = dot_coords['min_col'] - num.shape[1] - random.randint(0, 10)\n",
    "    \n",
    "    return blank.place_object(num, (top_left_row, top_left_col))"
   ]
  },
  {
   "cell_type": "code",
   "execution_count": 114,
   "metadata": {},
   "outputs": [
    {
     "data": {
      "image/png": "[encoded data removed]",
      "text/plain": [
       "<PIL.Image.Image image mode=L size=672x512 at 0x7FA037DA7748>"
      ]
     },
     "execution_count": 114,
     "metadata": {},
     "output_type": "execute_result"
    }
   ],
   "source": [
    "a = get_blanks('blanks')[0]\n",
    "a.img = adaptive_thresh(a.img)\n",
    "\n",
    "names, imgs = get_img_data('nums/ones')\n",
    "num_sampler = Sampler(imgs)\n",
    "\n",
    "func = [place_above, place_below, place_left, place_right]\n",
    "\n",
    "    \n",
    "for i in range(6):\n",
    "    dot = np.load('dots/1.npy')\n",
    "    dot = adaptive_thresh(dot)\n",
    "  #  dot = cv.resize(dot, (15,15))\n",
    "\n",
    "    row = random.randint(a.min_row, a.max_row)\n",
    "    col = random.randint(a.min_col, a.max_col)\n",
    "    \n",
    "    while not a.place_object(dot, (row, col)):\n",
    "        row = random.randint(a.min_row, a.max_row)\n",
    "        col = random.randint(a.min_col, a.max_col)\n",
    "    \n",
    "    # placed dot\n",
    "    num = num_sampler.get_sample()\n",
    "    #num = adaptive_thresh(num)\n",
    "    num = ndimage.rotate(adaptive_thresh(num), 0, cval=255)\n",
    "    #num = cv.resize(num, (15,15))\n",
    "    #cap at 20 \n",
    "\n",
    "    top_left = row, col\n",
    "    bot_right = row+dot.shape[0], col+dot.shape[1]\n",
    "    \n",
    "    dot_coords = {}\n",
    "    dot_coords['min_row'] = top_left[0]\n",
    "    dot_coords['max_row'] = bot_right[0]\n",
    "    dot_coords['min_col'] = top_left[1]\n",
    "    dot_coords['max_col'] = bot_right[1]\n",
    "\n",
    "    np.random.shuffle(func)\n",
    "    \n",
    "    for f in func:\n",
    "        if f(a, num, dot_coords):\n",
    "            break\n",
    "            \n",
    "display(cv.resize(a.img, (672, 512)))"
   ]
  },
  {
   "cell_type": "code",
   "execution_count": 100,
   "metadata": {},
   "outputs": [
    {
     "data": {
      "image/png": "[encoded data removed]",
      "text/plain": [
       "<PIL.Image.Image image mode=L size=107x122 at 0x7FA037E35550>"
      ]
     },
     "execution_count": 100,
     "metadata": {},
     "output_type": "execute_result"
    }
   ],
   "source": [
    "display(np.load('nums/ones/2.npy'))"
   ]
  },
  {
   "cell_type": "code",
   "execution_count": null,
   "metadata": {},
   "outputs": [],
   "source": [
    "# 864 x 512\n",
    "# frist try 672 x 512"
   ]
  }
 ],
 "metadata": {
  "kernelspec": {
   "display_name": "Python [conda env:test_env]",
   "language": "python",
   "name": "conda-env-test_env-py"
  },
  "language_info": {
   "codemirror_mode": {
    "name": "ipython",
    "version": 3
   },
   "file_extension": ".py",
   "mimetype": "text/x-python",
   "name": "python",
   "nbconvert_exporter": "python",
   "pygments_lexer": "ipython3",
   "version": "3.6.5"
  }
 },
 "nbformat": 4,
 "nbformat_minor": 2
}
