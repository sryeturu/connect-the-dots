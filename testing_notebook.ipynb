{
 "cells": [
  {
   "cell_type": "code",
   "execution_count": 206,
   "metadata": {},
   "outputs": [
    {
     "name": "stdout",
     "output_type": "stream",
     "text": [
      "The autoreload extension is already loaded. To reload it, use:\n",
      "  %reload_ext autoreload\n"
     ]
    }
   ],
   "source": [
    "import cv2 as cv\n",
    "import numpy as np\n",
    "import random\n",
    "import copy\n",
    "from PIL import Image\n",
    "from image_utils import *\n",
    "from canvas import *\n",
    "from scipy import ndimage\n",
    "from sampling import Sampler\n",
    "from config import parse_cfg\n",
    "%load_ext autoreload\n",
    "%autoreload 2"
   ]
  },
  {
   "cell_type": "code",
   "execution_count": 243,
   "metadata": {},
   "outputs": [],
   "source": [
    "class mon:\n",
    "    def d(self, v):\n",
    "        print(v)\n",
    "    def m(self, a):\n",
    "        d(a)"
   ]
  },
  {
   "cell_type": "code",
   "execution_count": 244,
   "metadata": {},
   "outputs": [
    {
     "ename": "NameError",
     "evalue": "name 'd' is not defined",
     "output_type": "error",
     "traceback": [
      "\u001b[0;31m---------------------------------------------------------------------------\u001b[0m",
      "\u001b[0;31mNameError\u001b[0m                                 Traceback (most recent call last)",
      "\u001b[0;32m<ipython-input-244-d57f730da625>\u001b[0m in \u001b[0;36m<module>\u001b[0;34m()\u001b[0m\n\u001b[0;32m----> 1\u001b[0;31m \u001b[0mmon\u001b[0m\u001b[0;34m(\u001b[0m\u001b[0;34m)\u001b[0m\u001b[0;34m.\u001b[0m\u001b[0mm\u001b[0m\u001b[0;34m(\u001b[0m\u001b[0;36m43\u001b[0m\u001b[0;34m)\u001b[0m\u001b[0;34m\u001b[0m\u001b[0m\n\u001b[0m",
      "\u001b[0;32m<ipython-input-243-582889d3ed7e>\u001b[0m in \u001b[0;36mm\u001b[0;34m(self, a)\u001b[0m\n\u001b[1;32m      3\u001b[0m         \u001b[0mprint\u001b[0m\u001b[0;34m(\u001b[0m\u001b[0mv\u001b[0m\u001b[0;34m)\u001b[0m\u001b[0;34m\u001b[0m\u001b[0m\n\u001b[1;32m      4\u001b[0m     \u001b[0;32mdef\u001b[0m \u001b[0mm\u001b[0m\u001b[0;34m(\u001b[0m\u001b[0mself\u001b[0m\u001b[0;34m,\u001b[0m \u001b[0ma\u001b[0m\u001b[0;34m)\u001b[0m\u001b[0;34m:\u001b[0m\u001b[0;34m\u001b[0m\u001b[0m\n\u001b[0;32m----> 5\u001b[0;31m         \u001b[0md\u001b[0m\u001b[0;34m(\u001b[0m\u001b[0ma\u001b[0m\u001b[0;34m)\u001b[0m\u001b[0;34m\u001b[0m\u001b[0m\n\u001b[0m",
      "\u001b[0;31mNameError\u001b[0m: name 'd' is not defined"
     ]
    }
   ],
   "source": [
    "mon().m(43)"
   ]
  },
  {
   "cell_type": "code",
   "execution_count": null,
   "metadata": {},
   "outputs": [],
   "source": []
  },
  {
   "cell_type": "code",
   "execution_count": null,
   "metadata": {},
   "outputs": [],
   "source": []
  },
  {
   "cell_type": "code",
   "execution_count": null,
   "metadata": {},
   "outputs": [],
   "source": []
  },
  {
   "cell_type": "code",
   "execution_count": 209,
   "metadata": {},
   "outputs": [],
   "source": [
    "def display(img):\n",
    "    return Image.fromarray(img)"
   ]
  },
  {
   "cell_type": "code",
   "execution_count": 210,
   "metadata": {},
   "outputs": [],
   "source": [
    "def get_above_coords(canvas, dot, num_coords):\n",
    "\n",
    "    top_left_row = num_coords['min_col'] + random.randint(-20, 20)\n",
    "    top_left_col = num_coords['min_row'] - dot.shape[0] - random.randint(0, 10)\n",
    "\n",
    "    return top_left_row, top_left_col \n",
    "\n",
    "def get_below_coords(canvas, num, dot_coords):\n",
    "        \n",
    "    top_left_col = dot_coords['max_row'] + random.randint(0, 10)\n",
    "    top_left_row = dot_coords['min_col'] + random.randint(-20, 20)\n",
    "    \n",
    "    return top_left_row, top_left_col\n",
    "\n",
    "def get_right_coords(canvas, num, dot_coords):\n",
    "    \n",
    "    top_left_col = dot_coords['min_row'] + random.randint(-20, 20)\n",
    "    top_left_row = dot_coords['max_col'] + random.randint(0, 10)\n",
    "    \n",
    "    return top_left_row, top_left_col\n",
    "\n",
    "def get_left_coords(canvas, num, dot_coords):\n",
    "    \n",
    "    top_left_col = dot_coords['min_row'] + random.randint(-20, 20)\n",
    "    top_left_row = dot_coords['min_col'] - num.shape[1] - random.randint(0, 10)\n",
    "    \n",
    "    return top_left_row, top_left_col\n",
    "\n",
    "def get_yolo_bbox(corners, canvas):\n",
    "    ''' corners is a tuple of  (top_left, top_right, bot_right, bot_left)'''\n",
    "    \n",
    "    x1, y1 = corners[0] #top left\n",
    "    x2, y2 = corners[2] #bot right\n",
    "    \n",
    "    x_mid = (x1 + x2)/2\n",
    "    y_mid = (y1 + y2) /2\n",
    "    \n",
    "    width = x2 - x1\n",
    "    height = y2 - y1\n",
    "    \n",
    "    x_abs = x_mid / canvas.img.shape[1]\n",
    "    y_abs = y_mid / canvas.img.shape[0]\n",
    "    \n",
    "    width_abs = width / canvas.img.shape[1]\n",
    "    height_abs = height / canvas.img.shape[0]\n",
    "    \n",
    "    return x_abs, y_abs, width_abs, height_abs"
   ]
  },
  {
   "cell_type": "code",
   "execution_count": 211,
   "metadata": {},
   "outputs": [
    {
     "data": {
      "text/plain": [
       "(3, 12, 32)"
      ]
     },
     "execution_count": 211,
     "metadata": {},
     "output_type": "execute_result"
    }
   ],
   "source": [
    "(3, *(12,32))"
   ]
  },
  {
   "cell_type": "code",
   "execution_count": 330,
   "metadata": {},
   "outputs": [],
   "source": [
    "func = [get_above_coords, get_below_coords, get_left_coords, get_right_coords]\n",
    "\n",
    "canvas_sampler = Sampler(get_canvases('canvases'))\n",
    "dot_sampler = Sampler(get_img_data('dots'))\n",
    "background_sampler = Sampler(get_img_data('backgrounds'))\n",
    "drawing_sampler = Sampler(get_img_data('drawings'))\n",
    "\n",
    "num_sampler = [None]\n",
    "a = []\n",
    "def get_potential_pos(canvas):\n",
    "    x1 = random.randint(canvas.top_left[0],  canvas.top_right[0])\n",
    "    y1 = random.randint(canvas.top_left[1],  canvas.bot_left[1])\n",
    "    \n",
    "    return x1, y1\n",
    "    \n",
    "for i in range(1,3):\n",
    "    imgs = get_img_data('nums/' + str(i))\n",
    "    num_sampler.append(Sampler(imgs))\n",
    "\n",
    "num_of_samples = 2\n",
    "\n",
    "for img_idx in range(num_of_samples):\n",
    "    canvas = copy.deepcopy(canvas_sampler.get_sample())\n",
    "    bboxs = {}\n",
    "\n",
    "    num_of_drawings = random.randint(0, 3)\n",
    "    \n",
    "    for i in range(num_of_drawings):\n",
    "        drawing = drawing_sampler.get_sample()\n",
    "        drawing = resize(drawing, .8, 1.3)\n",
    "        x1, y1 = get_potential_pos(canvas)\n",
    "        \n",
    "        while not canvas.draw_on_paper(drawing, (x1, y1), True):\n",
    "            x1, y1 = get_potential_pos(canvas)\n",
    "\n",
    "\n",
    "    num_of_nums = random.randint(0, 20)\n",
    "    \n",
    "    for i in range(num_of_nums):\n",
    "        cur_num = random.randint(1,2)\n",
    "        num = num_sampler[cur_num].get_sample()\n",
    "        \n",
    "        num = resize(num, .8, 1.3)\n",
    "\n",
    "        x1 = random.randint(canvas.top_left[0],  canvas.top_right[0])\n",
    "        y1 = random.randint(canvas.top_left[1],  canvas.bot_left[1])\n",
    "\n",
    "        while not canvas.draw_on_paper(num, (x1, y1)):\n",
    "            x1 = random.randint(canvas.top_left[0],  canvas.top_right[0])\n",
    "            y1 = random.randint(canvas.top_left[1],  canvas.bot_left[1])\n",
    "\n",
    "        top_left, top_right, bot_right, bot_left = get_corners((x1, y1), num)\n",
    "        \n",
    "        if cur_num not in bboxs:\n",
    "            bboxs[cur_num] = []\n",
    "            \n",
    "        bboxs[cur_num].append((top_left, top_right, bot_right, bot_left))\n",
    "\n",
    "        num_coords = {}\n",
    "        num_coords['min_row'] = top_left[1]\n",
    "        num_coords['max_row'] = bot_right[1]\n",
    "        num_coords['min_col'] = top_left[0]\n",
    "        num_coords['max_col'] = bot_right[0]\n",
    "\n",
    "        np.random.shuffle(func)\n",
    "        \n",
    "        scalar = .8   \n",
    "        dot = dot_sampler.get_sample()\n",
    "        dot = cv.resize(dot, ( int(dot.shape[0]*scalar), int(dot.shape[1]*scalar)))\n",
    "        dot = adaptive_thresh(dot)\n",
    "\n",
    "        for f in func:\n",
    "            top_left = f(canvas, dot, num_coords)\n",
    "            if canvas.draw_on_paper(dot, top_left):\n",
    "                if 0 not in bboxs:\n",
    "                    bboxs[0] = []\n",
    "                    \n",
    "                bboxs[0].append(get_corners(top_left, dot))\n",
    "                break\n",
    "    \n",
    "    deg = 0\n",
    "    \n",
    "    org_shape = canvas.img.shape\n",
    "    canvas.rotate(deg)\n",
    "    \n",
    "    rad = np.deg2rad(deg)\n",
    "    rt = np.array([[np.cos(rad), np.sin(rad)], [-np.sin(rad), np.cos(rad)]])\n",
    "    \n",
    "    bbox_str = ''\n",
    "    for k,v in bboxs.items():\n",
    "        for obj in v:\n",
    "            nw = np.dot(rt, np.array(obj).T - (np.array(org_shape[::-1])/2).reshape(2,-1)) + np.array([canvas.img.shape[1]/2, canvas.img.shape[0]/2]).reshape(2,-1)\n",
    "\n",
    "            nw = nw.astype(np.int32)\n",
    "\n",
    "            canvas.img = cv.rectangle(canvas.img, tuple(nw[:, 0]), tuple(nw[:, 2]), (0), 1)\n",
    "            bbox_str += ('%d %f %f %f %f\\n' % (k, *get_yolo_bbox(obj, canvas)))\n",
    "    \n",
    "    background_count = random.randint(0, 5)\n",
    "    for i in range(background_count):\n",
    " \n",
    "        background = background_sampler.get_sample()\n",
    "\n",
    "        background = resize(background, .8, 1.3)\n",
    "\n",
    "        y1 = random.randint(0, canvas.img.shape[0])\n",
    "        x1 = random.randint(0, canvas.img.shape[1])\n",
    "\n",
    "        while canvas.all_corners_inside_paper((x1, y1), background):\n",
    "            y1 = random.randint(0, canvas.img.shape[0])\n",
    "            x1 = random.randint(0, canvas.img.shape[1])\n",
    "\n",
    "        canvas.draw_on_background(background, (x1, y1))\n",
    " \n",
    "        a.append(canvas)"
   ]
  },
  {
   "cell_type": "code",
   "execution_count": 331,
   "metadata": {},
   "outputs": [
    {
     "name": "stdout",
     "output_type": "stream",
     "text": [
      "(720, 1280) (420, 97)\n",
      "(512, 672) (220, 68)\n"
     ]
    }
   ],
   "source": [
    "print(a[0].img.shape, a[0].top_left)\n",
    "a[0].resize((672, 512))\n",
    "print(a[0].img.shape, a[0].top_left)\n",
    "a[0].img = cv.rectangle(a[0].img, a[0].top_left, a[0].bot_right, (0), 30)"
   ]
  },
  {
   "cell_type": "code",
   "execution_count": 332,
   "metadata": {},
   "outputs": [
    {
     "data": {
      "image/png": "[encoded data removed]",
      "text/plain": [
       "<PIL.Image.Image image mode=L size=672x512 at 0x7F96662244E0>"
      ]
     },
     "execution_count": 332,
     "metadata": {},
     "output_type": "execute_result"
    }
   ],
   "source": [
    "display(a[0].img)    "
   ]
  },
  {
   "cell_type": "code",
   "execution_count": 222,
   "metadata": {},
   "outputs": [
    {
     "data": {
      "text/plain": [
       "(883, 1364)"
      ]
     },
     "execution_count": 222,
     "metadata": {},
     "output_type": "execute_result"
    }
   ],
   "source": [
    "image_samples[0].shape"
   ]
  },
  {
   "cell_type": "code",
   "execution_count": 224,
   "metadata": {},
   "outputs": [
    {
     "data": {
      "text/plain": [
       "array([  0,   1,   2,   3,   4,   5,   6,   7,   8,   9,  10,  11,  12,\n",
       "        13,  14,  15,  16,  17,  18,  19,  20,  21,  22,  23,  24,  25,\n",
       "        26,  27,  28,  29,  30,  31,  32,  33,  34,  35,  36,  37,  38,\n",
       "        39,  40,  41,  42,  43,  44,  45,  46,  47,  48,  49,  50,  51,\n",
       "        52,  53,  54,  55,  56,  57,  58,  59,  60,  61,  62,  63,  64,\n",
       "        65,  66,  67,  68,  69,  70,  71,  72,  73,  74,  75,  76,  77,\n",
       "        78,  79,  80,  81,  82,  83,  84,  85,  86,  87,  88,  89,  90,\n",
       "        91,  92,  93,  94,  95,  96,  97,  98,  99, 100, 101, 102, 103,\n",
       "       104, 105, 106, 107, 108, 109, 110, 111, 112, 113, 114, 115, 116,\n",
       "       117, 118, 119, 120, 121, 122, 123, 124, 125, 126, 127, 128, 129,\n",
       "       130, 131, 132, 133, 134, 135, 136, 137, 138, 139, 140, 141, 142,\n",
       "       143, 144, 145, 146, 147, 148, 149, 150, 151, 152, 153, 154, 155,\n",
       "       156, 157, 158, 159, 160, 161, 162, 163, 164, 165, 166, 167, 168,\n",
       "       169, 170, 171, 172, 173, 174, 175, 176, 177, 178, 179, 180, 181,\n",
       "       182, 183, 184, 185, 186, 187, 188, 189, 190, 191, 192, 193, 194,\n",
       "       195, 196, 197, 198, 199, 200, 201, 202, 203, 204, 205, 206, 207,\n",
       "       208, 209, 210, 211, 212, 213, 214, 215, 216, 217, 218, 219, 220,\n",
       "       221, 222, 223, 224, 225, 226, 227, 228, 229, 230, 231, 232, 233,\n",
       "       234, 235, 236, 237, 238, 239, 240, 241, 242, 243, 244, 245, 246,\n",
       "       247, 248, 249, 250, 251, 252, 253, 254, 255], dtype=uint8)"
      ]
     },
     "execution_count": 224,
     "metadata": {},
     "output_type": "execute_result"
    }
   ],
   "source": [
    "np.unique(cv.resize(image_samples[0], (672, 512)))"
   ]
  },
  {
   "cell_type": "code",
   "execution_count": 177,
   "metadata": {},
   "outputs": [
    {
     "data": {
      "text/plain": [
       "True"
      ]
     },
     "execution_count": 177,
     "metadata": {},
     "output_type": "execute_result"
    }
   ],
   "source": [
    "cv.imwrite('m.jpg', image_samples[0])"
   ]
  }
 ],
 "metadata": {
  "kernelspec": {
   "display_name": "Python [conda env:test_env]",
   "language": "python",
   "name": "conda-env-test_env-py"
  },
  "language_info": {
   "codemirror_mode": {
    "name": "ipython",
    "version": 3
   },
   "file_extension": ".py",
   "mimetype": "text/x-python",
   "name": "python",
   "nbconvert_exporter": "python",
   "pygments_lexer": "ipython3",
   "version": "3.6.5"
  }
 },
 "nbformat": 4,
 "nbformat_minor": 2
}
