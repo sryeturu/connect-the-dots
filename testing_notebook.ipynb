{
 "cells": [
  {
   "cell_type": "code",
   "execution_count": 112,
   "metadata": {},
   "outputs": [
    {
     "name": "stdout",
     "output_type": "stream",
     "text": [
      "The autoreload extension is already loaded. To reload it, use:\n",
      "  %reload_ext autoreload\n"
     ]
    }
   ],
   "source": [
    "import cv2 as cv\n",
    "import numpy as np\n",
    "import random\n",
    "import copy\n",
    "from PIL import Image\n",
    "from image_utils import *\n",
    "from canvas import *\n",
    "from scipy import ndimage\n",
    "from sampling import Sampler\n",
    "from config import parse_cfg\n",
    "%load_ext autoreload\n",
    "%autoreload 2"
   ]
  },
  {
   "cell_type": "code",
   "execution_count": 2,
   "metadata": {},
   "outputs": [],
   "source": [
    "def display(img):\n",
    "    return Image.fromarray(img)"
   ]
  },
  {
   "cell_type": "code",
   "execution_count": 3,
   "metadata": {},
   "outputs": [],
   "source": [
    "def place_above(canvas, dot, num_coords):\n",
    "\n",
    "    top_left_row = num_coords['min_col'] + random.randint(-20, 20)\n",
    "    top_left_col = num_coords['min_row'] - dot.shape[0] - random.randint(0, 10)\n",
    "\n",
    "    return top_left_row, top_left_col \n",
    "\n",
    "def place_below(canvas, num, dot_coords):\n",
    "        \n",
    "    top_left_col = dot_coords['max_row'] + random.randint(0, 10)\n",
    "    top_left_row = dot_coords['min_col'] + random.randint(-20, 20)\n",
    "    \n",
    "    return top_left_row, top_left_col\n",
    "\n",
    "def place_right(canvas, num, dot_coords):\n",
    "    \n",
    "    top_left_col = dot_coords['min_row'] + random.randint(-20, 20)\n",
    "    top_left_row = dot_coords['max_col'] + random.randint(0, 10)\n",
    "    \n",
    "    return top_left_row, top_left_col\n",
    "\n",
    "def place_left(canvas, num, dot_coords):\n",
    "    \n",
    "    top_left_col = dot_coords['min_row'] + random.randint(-20, 20)\n",
    "    top_left_row = dot_coords['min_col'] - num.shape[1] - random.randint(0, 10)\n",
    "    \n",
    "    return top_left_row, top_left_col\n",
    "\n",
    "def totally_inside_paper(top_left_obj, obj, canvas):\n",
    "\n",
    "    for corner in get_corners(top_left_obj, obj):\n",
    "         if cv.pointPolygonTest(canvas.contours, (corner[1], corner[0]), False) < 0.0:\n",
    "                return False\n",
    "    \n",
    "    return True"
   ]
  },
  {
   "cell_type": "code",
   "execution_count": 208,
   "metadata": {},
   "outputs": [],
   "source": [
    "image_samples = []\n",
    "\n",
    "canvas_sampler = Sampler(get_canvases('canvases'))\n",
    "dot_sampler = Sampler(get_img_data('dots'))\n",
    "background_sampler = Sampler(get_img_data('backgrounds'))\n",
    "\n",
    "num_sampler = [None]\n",
    "\n",
    "for i in range(1,3):\n",
    "    imgs = get_img_data('nums/' + str(i))\n",
    "    num_sampler.append(Sampler(imgs))\n",
    "\n",
    "num_of_samples = 5\n",
    "\n",
    "for i in range(num_of_samples):\n",
    "    canvas = copy.deepcopy(canvas_sampler.get_sample())\n",
    "    bboxs = {}\n",
    "    \n",
    "    nums_on_paper = random.randint(0, 20)\n",
    "    \n",
    "    for i in range(nums_on_paper):\n",
    "        cur_num = random.randint(1,2)\n",
    "        num = num_sampler[cur_num].get_sample()\n",
    "        scalar = random.uniform(.8, 1)\n",
    "        num = cv.resize(num, (int(num.shape[0]*scalar), int(num.shape[1]*scalar)))\n",
    "        num = adaptive_thresh(num)\n",
    "        \n",
    "        x1 = random.randint(canvas.top_left[0],  canvas.top_right[0])\n",
    "        y1 = random.randint(canvas.top_left[1],  canvas.bot_left[1])\n",
    "\n",
    "        while not canvas.draw_on_paper(num, (x1, y1)):\n",
    "            x1 = random.randint(canvas.top_left[0],  canvas.top_right[0])\n",
    "            y1 = random.randint(canvas.top_left[1],  canvas.bot_left[1])\n",
    "\n",
    "        top_left, top_right, bot_right, bot_left = get_corners((x1, y1), num)\n",
    "        \n",
    "        if cur_num not in bboxs:\n",
    "            bboxs[cur_num] = []\n",
    "            \n",
    "        bboxs[cur_num].append((top_left, top_right, bot_right, bot_left))\n",
    "\n",
    "        num_coords = {}\n",
    "        num_coords['min_row'] = top_left[1]\n",
    "        num_coords['max_row'] = bot_right[1]\n",
    "        num_coords['min_col'] = top_left[0]\n",
    "        num_coords['max_col'] = bot_right[0]\n",
    "\n",
    "        np.random.shuffle(func)\n",
    "        \n",
    "        scalar = .8   \n",
    "        dot = dot_sampler.get_sample()\n",
    "        dot = cv.resize(dot, ( int(dot.shape[0]*scalar), int(dot.shape[1]*scalar)))\n",
    "        dot = adaptive_thresh(dot)\n",
    "\n",
    "        for f in func:\n",
    "            top_left = f(a, dot, num_coords)\n",
    "            if canvas.draw_on_paper(dot, top_left):\n",
    "                if 'dots' not in bboxs:\n",
    "                    bboxs['dots'] = []\n",
    "                    \n",
    "                bboxs['dots'].append(get_corners(top_left, dot))\n",
    "                break\n",
    "    \n",
    "    deg = 10\n",
    "    \n",
    "    org_shape = canvas.img.shape\n",
    "    canvas.rotate(deg)\n",
    "    \n",
    "    rad = np.deg2rad(deg)\n",
    "    rt = np.array([[np.cos(rad), np.sin(rad)], [-np.sin(rad), np.cos(rad)]])\n",
    "\n",
    "    for k,v in bboxs.items():\n",
    "        for obj in v:\n",
    "            nw = np.dot(rt, np.array(obj).T - (np.array(org_shape[::-1])/2).reshape(2,-1)) + np.array([canvas.img.shape[1]/2, canvas.img.shape[0]/2]).reshape(2,-1)\n",
    "           # nw = np.dot(rt, np.array(obj).T - np.array([1280/2, 720/2]).reshape(2,-1)) + np.array([canvas.img.shape[1]/2, canvas.img.shape[0]/2]).reshape(2,-1)\n",
    "\n",
    "            nw = nw.astype(np.int32)\n",
    "\n",
    "            canvas.img = cv.rectangle(canvas.img, tuple(nw[:, 0]), tuple(nw[:, 2]), (0), 1)\n",
    "\n",
    "    background_count = random.randint(0, 5)\n",
    "    for i in range(background_count):\n",
    " \n",
    "        background = background_sampler.get_sample()\n",
    "        scalar = random.uniform(1, 1)\n",
    "        background = cv.resize(background, (int(background.shape[0]*scalar), int(background.shape[1]*scalar)))\n",
    "        background = adaptive_thresh(background)\n",
    "        \n",
    "        y1 = random.randint(0, canvas.img.shape[0])\n",
    "        x1 = random.randint(0, canvas.img.shape[1])\n",
    "\n",
    "        while(totally_inside_paper((x1, y1), background, canvas)):\n",
    "            y1 = random.randint(0, canvas.img.shape[0])\n",
    "            x1 = random.randint(0, canvas.img.shape[1])\n",
    "\n",
    "        canvas.draw_on_background(background, (x1, y1))\n",
    "        \n",
    "    image_samples.append(canvas.img)    "
   ]
  },
  {
   "cell_type": "code",
   "execution_count": 211,
   "metadata": {},
   "outputs": [
    {
     "data": {
      "image/png": "[encoded data removed]",
      "text/plain": [
       "<PIL.Image.Image image mode=L size=672x512 at 0x7FED5109F438>"
      ]
     },
     "execution_count": 211,
     "metadata": {},
     "output_type": "execute_result"
    }
   ],
   "source": [
    "display(cv.resize(image_samples[2], (672, 512)))    "
   ]
  }
 ],
 "metadata": {
  "kernelspec": {
   "display_name": "Python [conda env:test_env]",
   "language": "python",
   "name": "conda-env-test_env-py"
  },
  "language_info": {
   "codemirror_mode": {
    "name": "ipython",
    "version": 3
   },
   "file_extension": ".py",
   "mimetype": "text/x-python",
   "name": "python",
   "nbconvert_exporter": "python",
   "pygments_lexer": "ipython3",
   "version": "3.6.5"
  }
 },
 "nbformat": 4,
 "nbformat_minor": 2
}
